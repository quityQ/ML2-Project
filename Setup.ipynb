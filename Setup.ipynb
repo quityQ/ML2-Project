{
 "cells": [
  {
   "cell_type": "markdown",
   "metadata": {},
   "source": [
    "## Dota 2 Buddy Setup\n",
    "\n",
    "This notebook is a setup guide for this project. It will guide you through some intiall steps which are required to run the project.\n",
    "The initial assumption is that you have a working python environment with the option to create a virtual environment.\n",
    "\n",
    "This project was created using Python 3.12.1, use the same to be safe"
   ]
  },
  {
   "cell_type": "markdown",
   "metadata": {},
   "source": [
    "## Setup the virtual environment\n",
    "After you have cloed this repo make sure to create a virtual environment. Use the requiremnts.txt file to install the required packages.\n"
   ]
  },
  {
   "cell_type": "markdown",
   "metadata": {},
   "source": [
    "## OpenDota\n",
    "To use OpenDota API you need to get an API key.\n",
    "You can receive a key [here](https://www.opendota.com/api-keys)\n",
    "Or ask the author of this project for a key\n",
    "\n",
    "\n",
    "### Setting the API key\n",
    "The key should be stored as a local environment variable called \"API_KEY\"\n",
    "You can adjust the name in Data.py file, if required\n",
    "\n",
    "In windows you can set the environment variable by running the following command in the terminal\n",
    "```bash\n",
    "set API_KEY=<your_key>\n",
    "```\n",
    "\n",
    "On Mac or Linux you can set the environment variable by running the following command in the terminal (I think...)\n",
    "```bash\n",
    "export API_KEY=<your_key>\n",
    "```\n",
    "\n",
    "### Getting basic data\n",
    "We need some data from OpenDota to start with. Namely a list of heroes.\n",
    "Run the following code to get the data\n",
    "\n",
    "We don't need to use the key for this specific request\n",
    "\n"
   ]
  },
  {
   "cell_type": "code",
   "execution_count": null,
   "metadata": {},
   "outputs": [],
   "source": [
    "import requests\n",
    "import json\n",
    "\n",
    "url = \"https://api.opendota.com/api/heroes\"\n",
    "response = requests.get(url)\n",
    "data = response.json()\n",
    "with open('database\\heroes.json', 'w') as f:\n",
    "    json.dump(data,f)\n"
   ]
  },
  {
   "cell_type": "markdown",
   "metadata": {},
   "source": [
    "## Setup Ollama (Local LLM)\n",
    "\n",
    "Download and setup ollama from [here](https://www.ollama.com/)\n",
    "\n",
    "After you've downloaded ollama and it's running you can run the following code to get the model that's used in this project\n",
    "\n",
    "Llama3 expects about 8GB of RAM to run\n",
    "If you have trouble using Llama3 you could try using \"phi3\" instead\n",
    "Just make sure to pull the model here and edit the path in the Chatbot.py file\n",
    "\n"
   ]
  },
  {
   "cell_type": "code",
   "execution_count": null,
   "metadata": {},
   "outputs": [],
   "source": [
    "import ollama as ol\n",
    "\n",
    "model = 'llama3'\n",
    "ol.pull(model)"
   ]
  },
  {
   "cell_type": "markdown",
   "metadata": {},
   "source": [
    "Let's test the model with a basic prompt"
   ]
  },
  {
   "cell_type": "code",
   "execution_count": null,
   "metadata": {},
   "outputs": [],
   "source": [
    "def chat(input):\n",
    "    try:\n",
    "        response = ol.chat(model, messages=[\n",
    "            {\n",
    "                'role': 'user',\n",
    "                'content': input\n",
    "            },\n",
    "        ])\n",
    "        return response['message']['content']\n",
    "    except ol.ResponseError as e:\n",
    "        print('Error:', e.error)\n",
    "\n",
    "print(chat(\"What even is RAG?\"))"
   ]
  },
  {
   "cell_type": "markdown",
   "metadata": {},
   "source": [
    "## Running the project\n",
    "\n",
    "Once the environment is set up you can run the project using the following command\n",
    "```bash\n",
    "streamlit run app.py\n",
    "```\n",
    "\n",
    "This will open a browser window with the app running. You can now interact with the chatbot and see the results\n",
    "\n",
    "The first run might take a few minutes, since the scraper needs to gather data\n",
    "\n",
    "Here are some player IDs of professional players you can use to test the chatbot\n",
    "\n",
    "- 54580962 (Insania)\n",
    "- 77490514 (Boxi)\n",
    "- 86698277 (33)\n",
    "- 201358612 (Nisha)\n",
    "- 152962063 (M1cke)\n"
   ]
  }
 ],
 "metadata": {
  "kernelspec": {
   "display_name": ".venv",
   "language": "python",
   "name": "python3"
  },
  "language_info": {
   "name": "python",
   "version": "3.12.1"
  }
 },
 "nbformat": 4,
 "nbformat_minor": 2
}
